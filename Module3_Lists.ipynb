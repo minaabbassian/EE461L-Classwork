{
 "cells": [
  {
   "cell_type": "code",
   "execution_count": 1,
   "metadata": {},
   "outputs": [
    {
     "name": "stdout",
     "output_type": "stream",
     "text": [
      "10\n",
      "20\n",
      "30\n",
      "40\n",
      "50\n",
      "[10, 20, 30, 40, 50]\n"
     ]
    }
   ],
   "source": [
    "number_list = [5, 10, 15, 20, 25]\n",
    "number_list = [element * 2 for element in number_list]\n",
    "for numb in number_list :\n",
    "    print(numb)\n",
    "print(number_list)"
   ]
  },
  {
   "cell_type": "code",
   "execution_count": 5,
   "metadata": {},
   "outputs": [
    {
     "name": "stdout",
     "output_type": "stream",
     "text": [
      "Menu:\n",
      "chicken is $4.0\n",
      "beef is $5.0\n",
      "veggies is $3.5\n",
      "fries is $2.0\n",
      "salsa is $2.5\n",
      "chips is $1.5\n",
      "Please enter the items you want to order from the menu: chicken veggies fries\n",
      "Thank you for ordering 3 of our delicious food items.\n",
      "Total price: $9.5\n"
     ]
    }
   ],
   "source": [
    "menu_list = [\"chicken\", \"beef\", \"veggies\", \"fries\", \"salsa\", \"chips\"]\n",
    "prices_list = [4.00, 5.00, 3.50, 2.00, 2.50, 1.50]\n",
    "print(\"Menu:\")\n",
    "index = 0\n",
    "for item in menu_list:\n",
    "        print(item + \" is $\" + str(prices_list[index]))\n",
    "        index = index + 1\n",
    "order = input(\"Please enter the items you want to order from the menu: \")\n",
    "order_list = order.split(' ')\n",
    "# print(order_list)\n",
    "number_items = len(order_list)\n",
    "print(\"Thank you for ordering \" + str(number_items) + \" of our delicious food items.\")\n",
    "total_price = 0.00\n",
    "for order_item in order_list :\n",
    "    item_index = menu_list.index(order_item)\n",
    "    total_price = total_price + prices_list[item_index]\n",
    "print(\"Total price: $\" + str(total_price))\n",
    "\n",
    "\n",
    "\n"
   ]
  },
  {
   "cell_type": "code",
   "execution_count": 27,
   "metadata": {},
   "outputs": [
    {
     "name": "stdout",
     "output_type": "stream",
     "text": [
      "[48, 70, 73, 70, 65, 42, 64, 72, 67, 53, 51, 91, 100, 79, 84, 49, 71, 59, 75, 96]\n",
      "Congrats on your perfect score!\n",
      "Original Grades: [48, 70, 73, 70, 65, 42, 64, 72, 67, 53, 51, 91, 100, 79, 84, 49, 71, 59, 75, 96]\n",
      "Processed Grades: [100, 96, 91, 84, 79, 75, 73, 72, 71, 70, 70, 67, 65, 64, 59, 53, 51, 49, 48, 42]\n",
      "70.36842105263158\n"
     ]
    }
   ],
   "source": [
    "#Write some code that will do the following:\n",
    "#Read one student's grade from StudentGrades.txt - store the items in a list\n",
    "#Copy the grades to a new list that you will change and process\n",
    "#If the student earned a perfect score, congratulate the student\n",
    "#Calculate the grade average after dropping the lowest grade\n",
    "#Print the new grades from highest to lowest\n",
    "#Print the original grades\n",
    "#Print the student's average\n",
    "student_grades = open(\"StudentGrades\", \"r\")\n",
    "grades_list = []\n",
    "for line in student_grades :\n",
    "    grades_list.append(int(line.strip('\\n')))\n",
    "print(grades_list)\n",
    "\n",
    "if 100 in grades_list :\n",
    "    print(\"Congrats on your perfect score!\")\n",
    "    \n",
    "print(\"Original Grades: \" + str(grades_list))\n",
    "\n",
    "grades_list.sort()\n",
    "grades_list.reverse()\n",
    "print(\"Processed Grades: \" + str(grades_list))\n",
    "\n",
    "#without minimum score -- 42\n",
    "min_grade = min(grades_list)\n",
    "grades_list.remove(min_grade)\n",
    "\n",
    "#AVERAGE\n",
    "grade_average = sum(grades_list)/len(grades_list)\n",
    "print(\"Grade Average: \", round(grade_average))\n",
    "\n",
    "\n"
   ]
  },
  {
   "cell_type": "code",
   "execution_count": null,
   "metadata": {},
   "outputs": [],
   "source": []
  },
  {
   "cell_type": "code",
   "execution_count": null,
   "metadata": {},
   "outputs": [],
   "source": []
  },
  {
   "cell_type": "code",
   "execution_count": null,
   "metadata": {},
   "outputs": [],
   "source": []
  }
 ],
 "metadata": {
  "kernelspec": {
   "display_name": "Python 3",
   "language": "python",
   "name": "python3"
  },
  "language_info": {
   "codemirror_mode": {
    "name": "ipython",
    "version": 3
   },
   "file_extension": ".py",
   "mimetype": "text/x-python",
   "name": "python",
   "nbconvert_exporter": "python",
   "pygments_lexer": "ipython3",
   "version": "3.8.5"
  }
 },
 "nbformat": 4,
 "nbformat_minor": 5
}
