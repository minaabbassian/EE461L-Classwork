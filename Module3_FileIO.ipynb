{
 "cells": [
  {
   "cell_type": "code",
   "execution_count": 1,
   "metadata": {},
   "outputs": [
    {
     "name": "stdout",
     "output_type": "stream",
     "text": [
      "Mickey Mouse\n",
      "Sleeping Beauty\n",
      "Donald Duck\n",
      "There were 3 students in the file.\n"
     ]
    }
   ],
   "source": [
    "student_data = open('StudentNames.txt', 'r')\n",
    "number = 0\n",
    "for student in student_data :\n",
    "    number = number + 1\n",
    "    name = student.rstrip('\\n')\n",
    "    print(name)\n",
    "student_data.close()\n",
    "print(\"There were \" + str(number) + \" students in the file.\")"
   ]
  },
  {
   "cell_type": "code",
   "execution_count": 11,
   "metadata": {},
   "outputs": [
    {
     "name": "stdout",
     "output_type": "stream",
     "text": [
      "Please enter a grade for Buzz Lightyear: 89\n",
      "Please enter a grade for Abominable Snowman: 89\n",
      "Please enter a grade for Doc Hudson: 55\n",
      "Please enter a grade for Edna Mode: 4\n",
      "Please enter a grade for Emperor Zurg: 34\n"
     ]
    }
   ],
   "source": [
    "more_data = open('MoreStudentNames.txt', 'r')\n",
    "grade_data = open('StudentsAndGrades.txt', 'w')\n",
    "for more in more_data : \n",
    "    name = more.rstrip('\\n')\n",
    "    grade_name = input(\"Please enter a grade for \" + name + \": \")\n",
    "    grade_data.write(name +\", \" + grade_name + \"\\n\")\n",
    "more_data.close()\n",
    "grade_data.close()\n",
    "    "
   ]
  },
  {
   "cell_type": "code",
   "execution_count": 16,
   "metadata": {},
   "outputs": [
    {
     "name": "stdout",
     "output_type": "stream",
     "text": [
      "Atlanta profit is $ 111219.16\n",
      "New York profit is $ 141550.31\n"
     ]
    }
   ],
   "source": [
    "city_data = open('CityProfit.txt', 'r')\n",
    "city_name = city_data.readline().rstrip('\\n')\n",
    "while city_name != '' :\n",
    "    q1_profit = float(city_data.readline())\n",
    "    q2_profit = float(city_data.readline())\n",
    "    q3_profit = float(city_data.readline())\n",
    "    tot_profit = q1_profit + q2_profit + q3_profit\n",
    "    print(city_name, \"profit is $\", tot_profit)\n",
    "    city_name = city_data.readline().rstrip('\\n')\n",
    "city_data.close()"
   ]
  },
  {
   "cell_type": "code",
   "execution_count": 8,
   "metadata": {},
   "outputs": [
    {
     "name": "stdout",
     "output_type": "stream",
     "text": [
      "Mary Lou lost 24 pounds.\n",
      "John lost 36 pounds.\n",
      "The 2 people dieting lost a total of 60 pounds.\n"
     ]
    }
   ],
   "source": [
    "weight_data = open('Dieters.txt', 'r')\n",
    "write_weightloss = open('WeightLoss.txt', 'w')\n",
    "weight_name = weight_data.readline().rstrip('\\n')\n",
    "total_weight_lost = 0\n",
    "number = 0\n",
    "while weight_name != '' :\n",
    "    number = number + 1\n",
    "    weight_before = int(weight_data.readline())\n",
    "    weight_after = int(weight_data.readline())\n",
    "    tot_loss = weight_before - weight_after\n",
    "    total_weight_lost = total_weight_lost + tot_loss\n",
    "    print(weight_name, \"lost\", tot_loss, \"pounds.\" )\n",
    "    write_weightloss.write(weight_name + \" lost \" + str(tot_loss) + \" pounds. \\n\" )\n",
    "    weight_name = weight_data.readline().rstrip('\\n')\n",
    "print(\"The \" + str(number) + \" people dieting lost a total of \" + str(total_weight_lost) + \" pounds.\")\n",
    "weight_data.close()\n",
    "write_weightloss.close()"
   ]
  },
  {
   "cell_type": "code",
   "execution_count": null,
   "metadata": {},
   "outputs": [],
   "source": []
  },
  {
   "cell_type": "code",
   "execution_count": null,
   "metadata": {},
   "outputs": [],
   "source": []
  }
 ],
 "metadata": {
  "kernelspec": {
   "display_name": "Python 3",
   "language": "python",
   "name": "python3"
  },
  "language_info": {
   "codemirror_mode": {
    "name": "ipython",
    "version": 3
   },
   "file_extension": ".py",
   "mimetype": "text/x-python",
   "name": "python",
   "nbconvert_exporter": "python",
   "pygments_lexer": "ipython3",
   "version": "3.8.5"
  }
 },
 "nbformat": 4,
 "nbformat_minor": 5
}
