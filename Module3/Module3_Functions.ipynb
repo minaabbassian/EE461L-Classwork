{
 "cells": [
  {
   "cell_type": "code",
   "execution_count": 4,
   "metadata": {},
   "outputs": [
    {
     "name": "stdout",
     "output_type": "stream",
     "text": [
      "Hello World (in main)\n",
      "Hello Mina Abbassian!!\n",
      "Back in main\n"
     ]
    }
   ],
   "source": [
    "# Define a main function that will do the following :\n",
    "#  Print \"Hello World (in main)\"\n",
    "#  Call the function to print your name \n",
    "#  Print \"Back in main\"\n",
    "#  Call the main function in the program body \n",
    "\n",
    "# First define the main function \n",
    "def main1() :\n",
    "    print(\"Hello World (in main)\")\n",
    "    print_hello()\n",
    "    print(\"Back in main\")\n",
    "\n",
    "# Define a function that will print Hello <your name> \n",
    "def print_hello() :\n",
    "    print(\"Hello Mina Abbassian!!\")\n",
    "\n",
    "# Call main function\n",
    "main1()"
   ]
  },
  {
   "cell_type": "code",
   "execution_count": 11,
   "metadata": {},
   "outputs": [
    {
     "name": "stdin",
     "output_type": "stream",
     "text": [
      "Enter price: $ 19.95\n"
     ]
    },
    {
     "name": "stdout",
     "output_type": "stream",
     "text": [
      "Sales tax: $1.0\n",
      "Final price: $20.95\n"
     ]
    }
   ],
   "source": [
    "# Calculate Sales Tax\n",
    "\n",
    "# Define main function \n",
    "def main() :\n",
    "    item_price = get_price()\n",
    "    item_tax = calculate_tax(item_price)\n",
    "    final_price = item_price + item_tax\n",
    "    lim_tax = round(item_tax, 2)\n",
    "    lim_final_price = round(final_price, 2)\n",
    "    print(\"Sales tax: $\" + str(lim_tax))\n",
    "    print(\"Final price: $\" + str(lim_final_price))\n",
    "    \n",
    "\n",
    "# Define function to get price from user\n",
    "SALES_TAX = 0.05 # 5% sales tax\n",
    "def get_price() :\n",
    "    price = float(input(\"Enter price: $\"))\n",
    "    return price\n",
    "\n",
    "# Define function to calculate sales tax\n",
    "def calculate_tax(cost) :\n",
    "    item_tax = cost * SALES_TAX\n",
    "    return item_tax\n",
    "\n",
    "# Call main function \n",
    "main()\n"
   ]
  },
  {
   "cell_type": "code",
   "execution_count": null,
   "metadata": {},
   "outputs": [],
   "source": []
  },
  {
   "cell_type": "code",
   "execution_count": null,
   "metadata": {},
   "outputs": [],
   "source": []
  }
 ],
 "metadata": {
  "kernelspec": {
   "display_name": "Python 3",
   "language": "python",
   "name": "python3"
  },
  "language_info": {
   "codemirror_mode": {
    "name": "ipython",
    "version": 3
   },
   "file_extension": ".py",
   "mimetype": "text/x-python",
   "name": "python",
   "nbconvert_exporter": "python",
   "pygments_lexer": "ipython3",
   "version": "3.8.5"
  }
 },
 "nbformat": 4,
 "nbformat_minor": 4
}
