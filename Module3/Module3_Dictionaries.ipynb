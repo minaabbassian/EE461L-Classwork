{
 "cells": [
  {
   "cell_type": "code",
   "execution_count": 8,
   "metadata": {},
   "outputs": [
    {
     "name": "stdout",
     "output_type": "stream",
     "text": [
      "{'Clint': '505-2612', 'Katie': '505-3451'}\n",
      "505-3451\n",
      "Clint\n",
      "Katie\n",
      "Clint 505-2612\n",
      "Katie 505-3451\n",
      "{'Clint': '505-2612', 'Katie': '505-3451', 'Caryn': '505-2662'}\n",
      "3\n",
      "{'Katie': '505-3451', 'Caryn': '505-2662'}\n",
      "2\n"
     ]
    }
   ],
   "source": [
    "# Examples of Dictionaries\n",
    " \n",
    "# Key - Clint, Value - 505-2612\n",
    "phonebook_dict = {'Clint':'505-2612', 'Katie':'505-3451'}\n",
    "print(phonebook_dict)\n",
    "print(phonebook_dict['Katie']) # Prints value of 'Katie'\n",
    "\n",
    "for key in phonebook_dict :\n",
    "    print(key)\n",
    "    \n",
    "for key in phonebook_dict :\n",
    "    print(key, phonebook_dict[key]) # Prints key and value on same line\n",
    "\n",
    "# Adding elements to dictionaries \n",
    "phonebook_dict['Caryn'] = '505-2662'\n",
    "print(phonebook_dict)\n",
    "print(len(phonebook_dict))\n",
    "\n",
    "# Removing elements from dictionaries\n",
    "del phonebook_dict['Clint']\n",
    "print(phonebook_dict)\n",
    "print(len(phonebook_dict))\n"
   ]
  },
  {
   "cell_type": "code",
   "execution_count": 15,
   "metadata": {},
   "outputs": [
    {
     "name": "stdout",
     "output_type": "stream",
     "text": [
      "Abhay Samant\n",
      "Brad Dyugen\n",
      "Cynthia Freer\n",
      "[' 10707 LochNess Cove', ' Austin', ' 78750']\n",
      "[' 8191 Staggerbrush Rd', ' Austin', ' 78749']\n",
      "[' 711 Lakeview Drive', ' Austin', ' 78730']\n"
     ]
    },
    {
     "name": "stdin",
     "output_type": "stream",
     "text": [
      "Please enter a user to search:  Abhay Samant\n"
     ]
    },
    {
     "name": "stdout",
     "output_type": "stream",
     "text": [
      "[' 10707 LochNess Cove', ' Austin', ' 78750']\n"
     ]
    }
   ],
   "source": [
    "# Contact Info \n",
    "dict = {}\n",
    "contact_file = open('contactInfo.txt', 'r')\n",
    "\n",
    "for line in contact_file :\n",
    "    mylist = []\n",
    "    line = line.rstrip('\\n')\n",
    "    name = line.split(',') # split() returns a list of strings after breaking the given string by the specified separator\n",
    "    \n",
    "    mylist.append(name[1])\n",
    "    mylist.append(name[2])\n",
    "    mylist.append(name[3])\n",
    "    \n",
    "    dict[name[0]] = mylist # Key is name of person, Value is list of contact info of that person\n",
    "    \n",
    "contact_file.close()\n",
    "\n",
    "# Print list of only contact names \n",
    "for key in dict :\n",
    "    print(key)\n",
    "\n",
    "# Print contact info of contacts\n",
    "for key in dict :\n",
    "    print(dict[key])\n",
    "    \n",
    "search_contact = input(\"Please enter a user to search: \")\n",
    "if search_contact in dict :\n",
    "    print(dict[search_contact])\n",
    "else :\n",
    "    print(\"User not found.\")\n",
    "    "
   ]
  },
  {
   "cell_type": "code",
   "execution_count": 19,
   "metadata": {},
   "outputs": [
    {
     "name": "stdout",
     "output_type": "stream",
     "text": [
      "{'Kayla': [88, 92, 102, 123], 'Luis': [82, 98, 100, 111]}\n",
      "[88, 92, 102, 123]\n",
      "{'Kayla': [88, 92, 102, 123], 'Luis': [82, 98, 100, 111], 'Sophie': [99, 123, 111]}\n"
     ]
    }
   ],
   "source": [
    "# Dictionaries with multiple values \n",
    "test_scores = {\"Kayla\": [88, 92, 102, 123], \n",
    "               \"Luis\": [82, 98, 100, 111]}\n",
    "\n",
    "#print all test scores\n",
    "print(test_scores)\n",
    "\n",
    "#print Kayla's test scores\n",
    "print(test_scores['Kayla'])\n",
    "\n",
    "#try to print a test score with incorrect key\n",
    "#print(test_scores[\"Sophie\"])\n",
    "\n",
    "#add a new test score\n",
    "test_scores[\"Sophie\"] = [99, 123, 111]\n",
    "\n",
    "print(test_scores)"
   ]
  },
  {
   "cell_type": "code",
   "execution_count": 26,
   "metadata": {},
   "outputs": [
    {
     "name": "stdout",
     "output_type": "stream",
     "text": [
      "Kevin Smith\n",
      "Kevin Smith\n",
      "dict_items([('name', 'Kevin Smith'), ('id', 12345), ('payrate', 24.33)])\n",
      "name Kevin Smith\n",
      "id 12345\n",
      "payrate 24.33\n",
      "Kevin Smith\n",
      "{'id': 12345, 'payrate': 24.33}\n"
     ]
    }
   ],
   "source": [
    "# Another example\n",
    "employee={\"name\":\"Kevin Smith\", \"id\":12345, \"payrate\":24.33}\n",
    "\n",
    "print(employee[\"name\"])\n",
    "\n",
    "print(employee.get(\"name\"))\n",
    "\n",
    "print(employee.items())\n",
    "\n",
    "for key, value in employee.items() :\n",
    "    print(key, value)\n",
    "    \n",
    "# pop(key, default) - gets value for key and removes pair from dictionary\n",
    "print(employee.pop(\"name\", \"Element not found\"))\n",
    "print(employee)"
   ]
  },
  {
   "cell_type": "code",
   "execution_count": null,
   "metadata": {},
   "outputs": [],
   "source": []
  }
 ],
 "metadata": {
  "kernelspec": {
   "display_name": "Python 3",
   "language": "python",
   "name": "python3"
  },
  "language_info": {
   "codemirror_mode": {
    "name": "ipython",
    "version": 3
   },
   "file_extension": ".py",
   "mimetype": "text/x-python",
   "name": "python",
   "nbconvert_exporter": "python",
   "pygments_lexer": "ipython3",
   "version": "3.8.5"
  }
 },
 "nbformat": 4,
 "nbformat_minor": 4
}
